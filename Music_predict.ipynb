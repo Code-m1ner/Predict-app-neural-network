{
 "cells": [
  {
   "cell_type": "code",
   "execution_count": 73,
   "metadata": {},
   "outputs": [
    {
     "data": {
      "text/plain": [
       "0.25"
      ]
     },
     "execution_count": 73,
     "metadata": {},
     "output_type": "execute_result"
    }
   ],
   "source": [
    "import pandas as pd\n",
    "#import numpy as np\n",
    "#import matplotlib.pyplot as plt\n",
    "#import seaborn as sb\n",
    "from sklearn.tree import DecisionTreeClassifier\n",
    "from sklearn.model_selection import  train_test_split\n",
    "from sklearn.metrics import accuracy_score\n",
    "\n",
    "music = pd.DataFrame({\n",
    "    'Age': [\n",
    "        20, 23, 25, 26, 29, 30, 31, 33, 37, 38,\n",
    "        20, 21, 25, 26, 27, 30, 31, 34, 35, 38\n",
    "    ],\n",
    "    'Gender': [\n",
    "        1, 1, 1, 1, 1, 1, 1, 1, 1, 1,\n",
    "        0, 0, 0, 0, 0, 0, 0, 0, 0, 0\n",
    "    ],\n",
    "    'Genre' : [\n",
    "        'HipHop', 'HipHop','HipHop','Jazz','Jazz','Jazz','Classical','Classical','Classical','Dance',\n",
    "        'Dance','Dance','Acoustic','Acoustic','Acoustic','Classical','Classical','Classical','Pop','Pop'\n",
    "    ]\n",
    "})\n",
    "music\n",
    "X = music.drop(columns=['Genre'])\n",
    "#z = music.drop(columns=['Gender','Genre'])\n",
    "y = music['Genre']\n",
    "X_train, X_test, y_train, y_test = train_test_split(X, y, test_size=0.2)\n",
    "\n",
    "model = DecisionTreeClassifier()\n",
    "model.fit(X_train, y_train)\n",
    "# the user age adn sex input to predict predictions = model.predict([ [21, 1], [22, 0] ])\n",
    "predictions = model.predict(X_test)\n",
    "\n",
    "score = accuracy_score(y_test, predictions)\n",
    "#plt.bar(y, z)\n",
    "score"
   ]
  }
 ],
 "metadata": {
  "kernelspec": {
   "display_name": "Python 3",
   "language": "python",
   "name": "python3"
  },
  "language_info": {
   "codemirror_mode": {
    "name": "ipython",
    "version": 3
   },
   "file_extension": ".py",
   "mimetype": "text/x-python",
   "name": "python",
   "nbconvert_exporter": "python",
   "pygments_lexer": "ipython3",
   "version": "3.8.13"
  },
  "orig_nbformat": 4,
  "vscode": {
   "interpreter": {
    "hash": "9ac03a0a6051494cc606d484d27d20fce22fb7b4d169f583271e11d5ba46a56e"
   }
  }
 },
 "nbformat": 4,
 "nbformat_minor": 2
}
